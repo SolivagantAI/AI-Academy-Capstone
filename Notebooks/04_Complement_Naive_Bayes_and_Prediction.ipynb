{
 "cells": [
  {
   "cell_type": "markdown",
   "metadata": {},
   "source": [
    "# Complement Naive Bayes and Prediction\n",
    "With the TF-IDF data ready, we can move into the model making and prediction. In the final version, this will be a part of the pipeline and will run training and test sets separately."
   ]
  },
  {
   "cell_type": "code",
   "execution_count": 1,
   "metadata": {},
   "outputs": [],
   "source": [
    "random_seed = 42\n",
    "\n",
    "import numpy as np\n",
    "import pandas as pd\n",
    "import matplotlib.pyplot as plt\n",
    "import seaborn as sns\n",
    "\n",
    "from IPython.display import clear_output\n",
    "from datetime import datetime\n",
    "\n",
    "from sklearn.model_selection import train_test_split\n",
    "from sklearn.preprocessing import LabelEncoder\n",
    "from sklearn.feature_extraction.text import TfidfTransformer\n",
    "from sklearn.naive_bayes import ComplementNB\n",
    "from sklearn import metrics\n",
    "\n",
    "import pickle"
   ]
  },
  {
   "cell_type": "code",
   "execution_count": 2,
   "metadata": {},
   "outputs": [],
   "source": [
    "# get pickled TF-IDF data and vectorizer\n",
    "path_to_file = \"../Data/pickles/TFIDF.dat\"\n",
    "with open (path_to_file, \"rb\") as f:\n",
    "    tfidf_data, tfidf_vectorizer = pickle.load(f)"
   ]
  },
  {
   "cell_type": "code",
   "execution_count": 3,
   "metadata": {},
   "outputs": [
    {
     "data": {
      "text/html": [
       "<div>\n",
       "<style scoped>\n",
       "    .dataframe tbody tr th:only-of-type {\n",
       "        vertical-align: middle;\n",
       "    }\n",
       "\n",
       "    .dataframe tbody tr th {\n",
       "        vertical-align: top;\n",
       "    }\n",
       "\n",
       "    .dataframe thead th {\n",
       "        text-align: right;\n",
       "    }\n",
       "</style>\n",
       "<table border=\"1\" class=\"dataframe\">\n",
       "  <thead>\n",
       "    <tr style=\"text-align: right;\">\n",
       "      <th></th>\n",
       "      <th>summary</th>\n",
       "      <th>genre</th>\n",
       "    </tr>\n",
       "  </thead>\n",
       "  <tbody>\n",
       "    <tr>\n",
       "      <th>0</th>\n",
       "      <td>old major old boar manor farm call animal farm...</td>\n",
       "      <td>Children's literature</td>\n",
       "    </tr>\n",
       "    <tr>\n",
       "      <th>1</th>\n",
       "      <td>old major old boar manor farm call animal farm...</td>\n",
       "      <td>Speculative fiction</td>\n",
       "    </tr>\n",
       "    <tr>\n",
       "      <th>2</th>\n",
       "      <td>old major old boar manor farm call animal farm...</td>\n",
       "      <td>Fiction</td>\n",
       "    </tr>\n",
       "    <tr>\n",
       "      <th>3</th>\n",
       "      <td>alex teenager live nearfuture england lead gan...</td>\n",
       "      <td>Science Fiction</td>\n",
       "    </tr>\n",
       "    <tr>\n",
       "      <th>4</th>\n",
       "      <td>alex teenager live nearfuture england lead gan...</td>\n",
       "      <td>Speculative fiction</td>\n",
       "    </tr>\n",
       "    <tr>\n",
       "      <th>...</th>\n",
       "      <td>...</td>\n",
       "      <td>...</td>\n",
       "    </tr>\n",
       "    <tr>\n",
       "      <th>26536</th>\n",
       "      <td>series follow character nick stone exmilitary ...</td>\n",
       "      <td>Fiction</td>\n",
       "    </tr>\n",
       "    <tr>\n",
       "      <th>26537</th>\n",
       "      <td>series follow character nick stone exmilitary ...</td>\n",
       "      <td>Suspense</td>\n",
       "    </tr>\n",
       "    <tr>\n",
       "      <th>26538</th>\n",
       "      <td>reader first meet rapp covert operation iran d...</td>\n",
       "      <td>Thriller</td>\n",
       "    </tr>\n",
       "    <tr>\n",
       "      <th>26539</th>\n",
       "      <td>reader first meet rapp covert operation iran d...</td>\n",
       "      <td>Fiction</td>\n",
       "    </tr>\n",
       "    <tr>\n",
       "      <th>26540</th>\n",
       "      <td>makar devushkin varvara dobroselova second cou...</td>\n",
       "      <td>Speculative fiction</td>\n",
       "    </tr>\n",
       "  </tbody>\n",
       "</table>\n",
       "<p>26541 rows × 2 columns</p>\n",
       "</div>"
      ],
      "text/plain": [
       "                                                 summary  \\\n",
       "0      old major old boar manor farm call animal farm...   \n",
       "1      old major old boar manor farm call animal farm...   \n",
       "2      old major old boar manor farm call animal farm...   \n",
       "3      alex teenager live nearfuture england lead gan...   \n",
       "4      alex teenager live nearfuture england lead gan...   \n",
       "...                                                  ...   \n",
       "26536  series follow character nick stone exmilitary ...   \n",
       "26537  series follow character nick stone exmilitary ...   \n",
       "26538  reader first meet rapp covert operation iran d...   \n",
       "26539  reader first meet rapp covert operation iran d...   \n",
       "26540  makar devushkin varvara dobroselova second cou...   \n",
       "\n",
       "                       genre  \n",
       "0      Children's literature  \n",
       "1        Speculative fiction  \n",
       "2                    Fiction  \n",
       "3            Science Fiction  \n",
       "4        Speculative fiction  \n",
       "...                      ...  \n",
       "26536                Fiction  \n",
       "26537               Suspense  \n",
       "26538               Thriller  \n",
       "26539                Fiction  \n",
       "26540    Speculative fiction  \n",
       "\n",
       "[26541 rows x 2 columns]"
      ]
     },
     "execution_count": 3,
     "metadata": {},
     "output_type": "execute_result"
    }
   ],
   "source": [
    "# get dataframe with summaries and genres\n",
    "path_to_data = \"../Data/cleaned_summaries_and_genres.csv\"\n",
    "df = pd.read_csv(path_to_data, index_col=0)\n",
    "df"
   ]
  },
  {
   "cell_type": "code",
   "execution_count": 4,
   "metadata": {},
   "outputs": [
    {
     "data": {
      "text/plain": [
       "array([ 2, 15,  6, ..., 18,  6, 15])"
      ]
     },
     "execution_count": 4,
     "metadata": {},
     "output_type": "execute_result"
    }
   ],
   "source": [
    "# encode genres into labels and make X and y\n",
    "le = LabelEncoder()\n",
    "\n",
    "X = tfidf_data\n",
    "\n",
    "y_names = df['genre']\n",
    "y = le.fit_transform(y_names)\n",
    "y"
   ]
  },
  {
   "cell_type": "code",
   "execution_count": 5,
   "metadata": {},
   "outputs": [
    {
     "name": "stdout",
     "output_type": "stream",
     "text": [
      "Array Shapes\n",
      "X_train: (18578, 116360)  y_train: (18578,)\n",
      "X_test:  (7963, 116360)   y_test:  (7963,)\n"
     ]
    }
   ],
   "source": [
    "X_train, X_test, y_train, y_test = train_test_split(X, y, test_size=0.3, random_state=random_seed)\n",
    "print(\"Array Shapes\\nX_train: {}  y_train: {}\\nX_test:  {}   y_test:  {}\"\\\n",
    "      .format(X_train.shape, y_train.shape, X_test.shape, y_test.shape))"
   ]
  },
  {
   "cell_type": "markdown",
   "metadata": {},
   "source": [
    "## Complement Naive Bayes\n",
    "The complement naive bayes analyzer has historically good performance with textual analysis."
   ]
  },
  {
   "cell_type": "code",
   "execution_count": 6,
   "metadata": {},
   "outputs": [
    {
     "data": {
      "text/plain": [
       "ComplementNB()"
      ]
     },
     "execution_count": 6,
     "metadata": {},
     "output_type": "execute_result"
    }
   ],
   "source": [
    "clf = ComplementNB()\n",
    "clf.fit(X_train, y_train)"
   ]
  },
  {
   "cell_type": "code",
   "execution_count": 7,
   "metadata": {},
   "outputs": [
    {
     "name": "stdout",
     "output_type": "stream",
     "text": [
      "                        precision    recall  f1-score   support\n",
      "\n",
      "       Adventure novel       0.86      0.23      0.37       236\n",
      "     Alternate history       0.64      0.18      0.28       148\n",
      " Children's literature       0.65      0.39      0.48      1456\n",
      "         Crime Fiction       0.68      0.39      0.49       517\n",
      "     Detective fiction       0.77      0.26      0.39       238\n",
      "               Fantasy       0.51      0.53      0.52      1723\n",
      "               Fiction       0.36      0.72      0.48      3344\n",
      "    Historical fiction       0.79      0.15      0.26       275\n",
      "      Historical novel       0.73      0.48      0.58       450\n",
      "                Horror       0.59      0.15      0.25       369\n",
      "               Mystery       0.52      0.35      0.42       960\n",
      "           Non-fiction       0.99      0.62      0.76       157\n",
      "                 Novel       0.81      0.49      0.61      1712\n",
      "         Romance novel       0.71      0.14      0.23       300\n",
      "       Science Fiction       0.55      0.60      0.57      1974\n",
      "   Speculative fiction       0.44      0.55      0.49      3075\n",
      "           Spy fiction       0.87      0.50      0.64       137\n",
      "              Suspense       0.58      0.04      0.08       528\n",
      "              Thriller       0.77      0.23      0.35       402\n",
      "Young adult literature       0.73      0.30      0.43       577\n",
      "\n",
      "              accuracy                           0.49     18578\n",
      "             macro avg       0.68      0.37      0.43     18578\n",
      "          weighted avg       0.56      0.49      0.48     18578\n",
      "\n"
     ]
    }
   ],
   "source": [
    "train_preds = clf.predict(X_train)\n",
    "print(metrics.classification_report(y_train, train_preds, target_names=le.classes_))"
   ]
  },
  {
   "cell_type": "markdown",
   "metadata": {},
   "source": [
    "The accuracy within the training set isn't bad. There are some obvious issues, but the numbers are almost all above the 50% success mark. How about with the test data, though?"
   ]
  },
  {
   "cell_type": "code",
   "execution_count": 8,
   "metadata": {},
   "outputs": [
    {
     "name": "stdout",
     "output_type": "stream",
     "text": [
      "Training score: 0.4894498869630746\n",
      "Testing score:  0.13562727615220393\n"
     ]
    }
   ],
   "source": [
    "preds = clf.predict(X_test)\n",
    "print(\"Training score: {}\".format(clf.score(X_train, y_train)))\n",
    "print(\"Testing score:  {}\".format(clf.score(X_test, y_test)))"
   ]
  },
  {
   "cell_type": "code",
   "execution_count": 9,
   "metadata": {},
   "outputs": [
    {
     "name": "stdout",
     "output_type": "stream",
     "text": [
      "                        precision    recall  f1-score   support\n",
      "\n",
      "       Adventure novel       0.07      0.02      0.03        94\n",
      "     Alternate history       0.06      0.01      0.02        78\n",
      " Children's literature       0.14      0.07      0.10       666\n",
      "         Crime Fiction       0.12      0.05      0.07       236\n",
      "     Detective fiction       0.07      0.03      0.04       103\n",
      "               Fantasy       0.17      0.15      0.16       690\n",
      "               Fiction       0.14      0.32      0.19      1403\n",
      "    Historical fiction       0.00      0.00      0.00       113\n",
      "      Historical novel       0.18      0.08      0.11       204\n",
      "                Horror       0.02      0.01      0.01       142\n",
      "               Mystery       0.09      0.06      0.07       436\n",
      "           Non-fiction       0.22      0.03      0.05        73\n",
      "                 Novel       0.15      0.07      0.09       751\n",
      "         Romance novel       0.04      0.01      0.01       135\n",
      "       Science Fiction       0.24      0.22      0.23       896\n",
      "   Speculative fiction       0.08      0.11      0.09      1239\n",
      "           Spy fiction       0.34      0.19      0.24        53\n",
      "              Suspense       0.00      0.00      0.00       237\n",
      "              Thriller       0.05      0.01      0.02       166\n",
      "Young adult literature       0.20      0.06      0.09       248\n",
      "\n",
      "              accuracy                           0.14      7963\n",
      "             macro avg       0.12      0.07      0.08      7963\n",
      "          weighted avg       0.13      0.14      0.12      7963\n",
      "\n"
     ]
    }
   ],
   "source": [
    "print(metrics.classification_report(y_test, preds, target_names=le.classes_))"
   ]
  },
  {
   "cell_type": "code",
   "execution_count": 10,
   "metadata": {},
   "outputs": [
    {
     "name": "stdout",
     "output_type": "stream",
     "text": [
      "[[  2   1  11   0   0   3  34   0   4   0   1   0   5   0   8  23   0   0\n",
      "    0   2]\n",
      " [  0   1   0   0   0   3  16   0   3   0   1   0   1   0  22  31   0   0\n",
      "    0   0]\n",
      " [  3   0  49   1   4  80 328   0   6   6  13   1   9   1  27 121   2   0\n",
      "    1  14]\n",
      " [  0   0   0  12   1   0 172   0   2   0  30   0   5   1   1   5   0   3\n",
      "    4   0]\n",
      " [  0   0   4   3   3   0  41   0   0   0  46   0   2   0   1   1   0   1\n",
      "    0   1]\n",
      " [  1   1  49   0   0 102 132   0   0   3   6   0   2   1  43 337   0   1\n",
      "    4   8]\n",
      " [  6   2 113  23   2  86 453   9  23   8  69   2 153  10 113 292   6  18\n",
      "   10   5]\n",
      " [  0   0   3   1   0   1  82   0  11   0   0   0   7   1   0   5   0   0\n",
      "    0   2]\n",
      " [  6   0   9   3   0   4 121   5  16   1   6   2  10   1   0  15   1   0\n",
      "    0   4]\n",
      " [  0   0   1   0   0  11  40   1   0   1   2   0   3   0   5  74   0   1\n",
      "    0   3]\n",
      " [  0   0  12  37  25   6 256   1   2   2  24   0   9   4   7  33   0  16\n",
      "    1   1]\n",
      " [  0   0   1   0   0   0  58   0   0   0   0   2   4   0   7   1   0   0\n",
      "    0   0]\n",
      " [  1   2  14   6   3   3 482   2   5   2  11   2  52   1  44 104   3   1\n",
      "   12   1]\n",
      " [  0   0   4   0   0  14  90   1   3   0   0   0   7   1   2  10   0   0\n",
      "    0   3]\n",
      " [  2   4   9   2   1  42 151   0   0   1   2   0  12   0 197 466   0   0\n",
      "    2   5]\n",
      " [  2   6  40   0   0 243 369   1   8  13  13   0  43   2 344 138   2   2\n",
      "    3  10]\n",
      " [  0   0   4   1   0   0  26   0   1   0   1   0   2   0   0   4  10   1\n",
      "    2   1]\n",
      " [  1   0   1   7   0   0 178   0   0   2  22   0   4   1   1  17   1   0\n",
      "    2   0]\n",
      " [  0   1   5   4   0   2  93   1   1   0   7   0  14   2   6  24   4   0\n",
      "    2   0]\n",
      " [  3   0  18   0   1  16 144   0   2   4   2   0   1   0   8  33   0   0\n",
      "    1  15]]\n"
     ]
    }
   ],
   "source": [
    "print(metrics.confusion_matrix(y_test, preds))"
   ]
  },
  {
   "cell_type": "markdown",
   "metadata": {},
   "source": [
    "Well, those numbers look terrible. My first thought on the poor scores is that the mixture of genres for a text might be throwing off the results. For example, Animal Farm has the genres Children's literature, Speculative fiction, and Fiction. Since all three of these are options for the text, the predictor might have picked one that didn't match at the expected point. Let's dig into the numbers and see if that interpretation holds up."
   ]
  },
  {
   "cell_type": "code",
   "execution_count": 11,
   "metadata": {},
   "outputs": [
    {
     "data": {
      "text/html": [
       "<div>\n",
       "<style scoped>\n",
       "    .dataframe tbody tr th:only-of-type {\n",
       "        vertical-align: middle;\n",
       "    }\n",
       "\n",
       "    .dataframe tbody tr th {\n",
       "        vertical-align: top;\n",
       "    }\n",
       "\n",
       "    .dataframe thead th {\n",
       "        text-align: right;\n",
       "    }\n",
       "</style>\n",
       "<table border=\"1\" class=\"dataframe\">\n",
       "  <thead>\n",
       "    <tr style=\"text-align: right;\">\n",
       "      <th></th>\n",
       "      <th>summary</th>\n",
       "      <th>genre</th>\n",
       "      <th>preds</th>\n",
       "    </tr>\n",
       "  </thead>\n",
       "  <tbody>\n",
       "    <tr>\n",
       "      <th>0</th>\n",
       "      <td>old major old boar manor farm call animal farm...</td>\n",
       "      <td>Children's literature</td>\n",
       "      <td>Fiction</td>\n",
       "    </tr>\n",
       "    <tr>\n",
       "      <th>1</th>\n",
       "      <td>old major old boar manor farm call animal farm...</td>\n",
       "      <td>Speculative fiction</td>\n",
       "      <td>Fiction</td>\n",
       "    </tr>\n",
       "    <tr>\n",
       "      <th>2</th>\n",
       "      <td>old major old boar manor farm call animal farm...</td>\n",
       "      <td>Fiction</td>\n",
       "      <td>Fiction</td>\n",
       "    </tr>\n",
       "    <tr>\n",
       "      <th>3</th>\n",
       "      <td>alex teenager live nearfuture england lead gan...</td>\n",
       "      <td>Science Fiction</td>\n",
       "      <td>Fiction</td>\n",
       "    </tr>\n",
       "    <tr>\n",
       "      <th>4</th>\n",
       "      <td>alex teenager live nearfuture england lead gan...</td>\n",
       "      <td>Speculative fiction</td>\n",
       "      <td>Fiction</td>\n",
       "    </tr>\n",
       "  </tbody>\n",
       "</table>\n",
       "</div>"
      ],
      "text/plain": [
       "                                             summary                  genre  \\\n",
       "0  old major old boar manor farm call animal farm...  Children's literature   \n",
       "1  old major old boar manor farm call animal farm...    Speculative fiction   \n",
       "2  old major old boar manor farm call animal farm...                Fiction   \n",
       "3  alex teenager live nearfuture england lead gan...        Science Fiction   \n",
       "4  alex teenager live nearfuture england lead gan...    Speculative fiction   \n",
       "\n",
       "     preds  \n",
       "0  Fiction  \n",
       "1  Fiction  \n",
       "2  Fiction  \n",
       "3  Fiction  \n",
       "4  Fiction  "
      ]
     },
     "execution_count": 11,
     "metadata": {},
     "output_type": "execute_result"
    }
   ],
   "source": [
    "all_preds = clf.predict(X)\n",
    "df['preds'] = le.inverse_transform(all_preds)\n",
    "df.head()"
   ]
  },
  {
   "cell_type": "code",
   "execution_count": 12,
   "metadata": {},
   "outputs": [
    {
     "data": {
      "text/plain": [
       "Fiction                   4747\n",
       "Speculative fiction       4314\n",
       "Science Fiction           2870\n",
       "Novel                     2463\n",
       "Fantasy                   2413\n",
       "Children's literature     2122\n",
       "Mystery                   1396\n",
       "Young adult literature     825\n",
       "Suspense                   765\n",
       "Crime Fiction              753\n",
       "Historical novel           654\n",
       "Thriller                   568\n",
       "Horror                     511\n",
       "Romance novel              435\n",
       "Historical fiction         388\n",
       "Detective fiction          341\n",
       "Adventure novel            330\n",
       "Non-fiction                230\n",
       "Alternate history          226\n",
       "Spy fiction                190\n",
       "Name: genre, dtype: int64"
      ]
     },
     "execution_count": 12,
     "metadata": {},
     "output_type": "execute_result"
    }
   ],
   "source": [
    "df.genre.value_counts()"
   ]
  },
  {
   "cell_type": "code",
   "execution_count": 13,
   "metadata": {},
   "outputs": [
    {
     "data": {
      "text/plain": [
       "Fiction                   9969\n",
       "Speculative fiction       5541\n",
       "Science Fiction           3003\n",
       "Fantasy                   2422\n",
       "Novel                     1375\n",
       "Children's literature     1215\n",
       "Mystery                    896\n",
       "Crime Fiction              395\n",
       "Historical novel           381\n",
       "Young adult literature     312\n",
       "Thriller                   164\n",
       "Horror                     139\n",
       "Detective fiction          122\n",
       "Spy fiction                108\n",
       "Non-fiction                107\n",
       "Adventure novel             91\n",
       "Romance novel               85\n",
       "Suspense                    82\n",
       "Historical fiction          74\n",
       "Alternate history           60\n",
       "Name: preds, dtype: int64"
      ]
     },
     "execution_count": 13,
     "metadata": {},
     "output_type": "execute_result"
    }
   ],
   "source": [
    "df.preds.value_counts()"
   ]
  },
  {
   "cell_type": "markdown",
   "metadata": {},
   "source": [
    "It looks like the AI is guessing Fiction way too often (9969 times in the full set as compared to the 4747 actual Fiction tags)."
   ]
  },
  {
   "cell_type": "code",
   "execution_count": 14,
   "metadata": {},
   "outputs": [
    {
     "data": {
      "text/html": [
       "<div>\n",
       "<style scoped>\n",
       "    .dataframe tbody tr th:only-of-type {\n",
       "        vertical-align: middle;\n",
       "    }\n",
       "\n",
       "    .dataframe tbody tr th {\n",
       "        vertical-align: top;\n",
       "    }\n",
       "\n",
       "    .dataframe thead th {\n",
       "        text-align: right;\n",
       "    }\n",
       "</style>\n",
       "<table border=\"1\" class=\"dataframe\">\n",
       "  <thead>\n",
       "    <tr style=\"text-align: right;\">\n",
       "      <th></th>\n",
       "      <th>summary</th>\n",
       "      <th>genre</th>\n",
       "      <th>preds</th>\n",
       "    </tr>\n",
       "  </thead>\n",
       "  <tbody>\n",
       "    <tr>\n",
       "      <th>0</th>\n",
       "      <td>old major old boar manor farm call animal farm...</td>\n",
       "      <td>Children's literature</td>\n",
       "      <td>Fiction</td>\n",
       "    </tr>\n",
       "    <tr>\n",
       "      <th>1</th>\n",
       "      <td>old major old boar manor farm call animal farm...</td>\n",
       "      <td>Speculative fiction</td>\n",
       "      <td>Fiction</td>\n",
       "    </tr>\n",
       "    <tr>\n",
       "      <th>3</th>\n",
       "      <td>alex teenager live nearfuture england lead gan...</td>\n",
       "      <td>Science Fiction</td>\n",
       "      <td>Fiction</td>\n",
       "    </tr>\n",
       "    <tr>\n",
       "      <th>4</th>\n",
       "      <td>alex teenager live nearfuture england lead gan...</td>\n",
       "      <td>Speculative fiction</td>\n",
       "      <td>Fiction</td>\n",
       "    </tr>\n",
       "    <tr>\n",
       "      <th>6</th>\n",
       "      <td>text plague divide five part town oran thousan...</td>\n",
       "      <td>Fiction</td>\n",
       "      <td>Novel</td>\n",
       "    </tr>\n",
       "    <tr>\n",
       "      <th>...</th>\n",
       "      <td>...</td>\n",
       "      <td>...</td>\n",
       "      <td>...</td>\n",
       "    </tr>\n",
       "    <tr>\n",
       "      <th>26530</th>\n",
       "      <td>heaven leigh casteel fourteen year old girl li...</td>\n",
       "      <td>Young adult literature</td>\n",
       "      <td>Fiction</td>\n",
       "    </tr>\n",
       "    <tr>\n",
       "      <th>26532</th>\n",
       "      <td>event heaven first book casteel series heaven ...</td>\n",
       "      <td>Young adult literature</td>\n",
       "      <td>Fiction</td>\n",
       "    </tr>\n",
       "    <tr>\n",
       "      <th>26535</th>\n",
       "      <td>series follow character nick stone exmilitary ...</td>\n",
       "      <td>Thriller</td>\n",
       "      <td>Fiction</td>\n",
       "    </tr>\n",
       "    <tr>\n",
       "      <th>26537</th>\n",
       "      <td>series follow character nick stone exmilitary ...</td>\n",
       "      <td>Suspense</td>\n",
       "      <td>Fiction</td>\n",
       "    </tr>\n",
       "    <tr>\n",
       "      <th>26538</th>\n",
       "      <td>reader first meet rapp covert operation iran d...</td>\n",
       "      <td>Thriller</td>\n",
       "      <td>Fiction</td>\n",
       "    </tr>\n",
       "  </tbody>\n",
       "</table>\n",
       "<p>16368 rows × 3 columns</p>\n",
       "</div>"
      ],
      "text/plain": [
       "                                                 summary  \\\n",
       "0      old major old boar manor farm call animal farm...   \n",
       "1      old major old boar manor farm call animal farm...   \n",
       "3      alex teenager live nearfuture england lead gan...   \n",
       "4      alex teenager live nearfuture england lead gan...   \n",
       "6      text plague divide five part town oran thousan...   \n",
       "...                                                  ...   \n",
       "26530  heaven leigh casteel fourteen year old girl li...   \n",
       "26532  event heaven first book casteel series heaven ...   \n",
       "26535  series follow character nick stone exmilitary ...   \n",
       "26537  series follow character nick stone exmilitary ...   \n",
       "26538  reader first meet rapp covert operation iran d...   \n",
       "\n",
       "                        genre    preds  \n",
       "0       Children's literature  Fiction  \n",
       "1         Speculative fiction  Fiction  \n",
       "3             Science Fiction  Fiction  \n",
       "4         Speculative fiction  Fiction  \n",
       "6                     Fiction    Novel  \n",
       "...                       ...      ...  \n",
       "26530  Young adult literature  Fiction  \n",
       "26532  Young adult literature  Fiction  \n",
       "26535                Thriller  Fiction  \n",
       "26537                Suspense  Fiction  \n",
       "26538                Thriller  Fiction  \n",
       "\n",
       "[16368 rows x 3 columns]"
      ]
     },
     "execution_count": 14,
     "metadata": {},
     "output_type": "execute_result"
    }
   ],
   "source": [
    "df[df['preds'] != df['genre']]"
   ]
  },
  {
   "cell_type": "code",
   "execution_count": 15,
   "metadata": {},
   "outputs": [
    {
     "data": {
      "text/html": [
       "<div>\n",
       "<style scoped>\n",
       "    .dataframe tbody tr th:only-of-type {\n",
       "        vertical-align: middle;\n",
       "    }\n",
       "\n",
       "    .dataframe tbody tr th {\n",
       "        vertical-align: top;\n",
       "    }\n",
       "\n",
       "    .dataframe thead th {\n",
       "        text-align: right;\n",
       "    }\n",
       "</style>\n",
       "<table border=\"1\" class=\"dataframe\">\n",
       "  <thead>\n",
       "    <tr style=\"text-align: right;\">\n",
       "      <th></th>\n",
       "      <th>summary</th>\n",
       "      <th>genre</th>\n",
       "      <th>preds</th>\n",
       "    </tr>\n",
       "  </thead>\n",
       "  <tbody>\n",
       "    <tr>\n",
       "      <th>2</th>\n",
       "      <td>old major old boar manor farm call animal farm...</td>\n",
       "      <td>Fiction</td>\n",
       "      <td>Fiction</td>\n",
       "    </tr>\n",
       "    <tr>\n",
       "      <th>5</th>\n",
       "      <td>alex teenager live nearfuture england lead gan...</td>\n",
       "      <td>Fiction</td>\n",
       "      <td>Fiction</td>\n",
       "    </tr>\n",
       "    <tr>\n",
       "      <th>7</th>\n",
       "      <td>text plague divide five part town oran thousan...</td>\n",
       "      <td>Novel</td>\n",
       "      <td>Novel</td>\n",
       "    </tr>\n",
       "    <tr>\n",
       "      <th>8</th>\n",
       "      <td>novel posit space around milky way divide conc...</td>\n",
       "      <td>Science Fiction</td>\n",
       "      <td>Science Fiction</td>\n",
       "    </tr>\n",
       "    <tr>\n",
       "      <th>14</th>\n",
       "      <td>ged young boy gont one large islands north arc...</td>\n",
       "      <td>Speculative fiction</td>\n",
       "      <td>Speculative fiction</td>\n",
       "    </tr>\n",
       "    <tr>\n",
       "      <th>...</th>\n",
       "      <td>...</td>\n",
       "      <td>...</td>\n",
       "      <td>...</td>\n",
       "    </tr>\n",
       "    <tr>\n",
       "      <th>26533</th>\n",
       "      <td>novel annie stonewall daughter heaven casteel ...</td>\n",
       "      <td>Young adult literature</td>\n",
       "      <td>Young adult literature</td>\n",
       "    </tr>\n",
       "    <tr>\n",
       "      <th>26534</th>\n",
       "      <td>story start former government agent frank comp...</td>\n",
       "      <td>Science Fiction</td>\n",
       "      <td>Science Fiction</td>\n",
       "    </tr>\n",
       "    <tr>\n",
       "      <th>26536</th>\n",
       "      <td>series follow character nick stone exmilitary ...</td>\n",
       "      <td>Fiction</td>\n",
       "      <td>Fiction</td>\n",
       "    </tr>\n",
       "    <tr>\n",
       "      <th>26539</th>\n",
       "      <td>reader first meet rapp covert operation iran d...</td>\n",
       "      <td>Fiction</td>\n",
       "      <td>Fiction</td>\n",
       "    </tr>\n",
       "    <tr>\n",
       "      <th>26540</th>\n",
       "      <td>makar devushkin varvara dobroselova second cou...</td>\n",
       "      <td>Speculative fiction</td>\n",
       "      <td>Speculative fiction</td>\n",
       "    </tr>\n",
       "  </tbody>\n",
       "</table>\n",
       "<p>10173 rows × 3 columns</p>\n",
       "</div>"
      ],
      "text/plain": [
       "                                                 summary  \\\n",
       "2      old major old boar manor farm call animal farm...   \n",
       "5      alex teenager live nearfuture england lead gan...   \n",
       "7      text plague divide five part town oran thousan...   \n",
       "8      novel posit space around milky way divide conc...   \n",
       "14     ged young boy gont one large islands north arc...   \n",
       "...                                                  ...   \n",
       "26533  novel annie stonewall daughter heaven casteel ...   \n",
       "26534  story start former government agent frank comp...   \n",
       "26536  series follow character nick stone exmilitary ...   \n",
       "26539  reader first meet rapp covert operation iran d...   \n",
       "26540  makar devushkin varvara dobroselova second cou...   \n",
       "\n",
       "                        genre                   preds  \n",
       "2                     Fiction                 Fiction  \n",
       "5                     Fiction                 Fiction  \n",
       "7                       Novel                   Novel  \n",
       "8             Science Fiction         Science Fiction  \n",
       "14        Speculative fiction     Speculative fiction  \n",
       "...                       ...                     ...  \n",
       "26533  Young adult literature  Young adult literature  \n",
       "26534         Science Fiction         Science Fiction  \n",
       "26536                 Fiction                 Fiction  \n",
       "26539                 Fiction                 Fiction  \n",
       "26540     Speculative fiction     Speculative fiction  \n",
       "\n",
       "[10173 rows x 3 columns]"
      ]
     },
     "execution_count": 15,
     "metadata": {},
     "output_type": "execute_result"
    }
   ],
   "source": [
    "df[df['preds'] == df['genre']]"
   ]
  },
  {
   "cell_type": "markdown",
   "metadata": {},
   "source": [
    "While there could be issues with the underlying data or with our hyperparameters, let's see if another classifier might perform better than the Complement Naive Bayes. The Multinomial Naive Bayes is another which is regularly used in NLP, though it is usually outperformed by the CNB."
   ]
  },
  {
   "cell_type": "code",
   "execution_count": 16,
   "metadata": {},
   "outputs": [
    {
     "name": "stdout",
     "output_type": "stream",
     "text": [
      "Training score: 0.2718268920228227\n",
      "Testing score:  0.18598518146427226\n"
     ]
    }
   ],
   "source": [
    "from sklearn.naive_bayes import MultinomialNB\n",
    "\n",
    "clf2 = MultinomialNB(alpha=1.0)\n",
    "\n",
    "clf2.fit(X_train, y_train)\n",
    "mnb_train = clf2.predict(X_train)\n",
    "mnb_test = clf2.predict(X_test)\n",
    "print(\"Training score: {}\".format(clf2.score(X_train, y_train)))\n",
    "print(\"Testing score:  {}\".format(clf2.score(X_test, y_test)))"
   ]
  },
  {
   "cell_type": "code",
   "execution_count": 17,
   "metadata": {},
   "outputs": [
    {
     "name": "stdout",
     "output_type": "stream",
     "text": [
      "                        precision    recall  f1-score   support\n",
      "\n",
      "       Adventure novel       0.00      0.00      0.00       236\n",
      "     Alternate history       0.00      0.00      0.00       148\n",
      " Children's literature       0.75      0.00      0.00      1456\n",
      "         Crime Fiction       0.00      0.00      0.00       517\n",
      "     Detective fiction       0.00      0.00      0.00       238\n",
      "               Fantasy       0.68      0.02      0.03      1723\n",
      "               Fiction       0.23      0.86      0.36      3344\n",
      "    Historical fiction       0.00      0.00      0.00       275\n",
      "      Historical novel       0.00      0.00      0.00       450\n",
      "                Horror       0.00      0.00      0.00       369\n",
      "               Mystery       0.00      0.00      0.00       960\n",
      "           Non-fiction       0.00      0.00      0.00       157\n",
      "                 Novel       1.00      0.00      0.00      1712\n",
      "         Romance novel       0.00      0.00      0.00       300\n",
      "       Science Fiction       0.85      0.03      0.06      1974\n",
      "   Speculative fiction       0.35      0.68      0.46      3075\n",
      "           Spy fiction       0.00      0.00      0.00       137\n",
      "              Suspense       0.00      0.00      0.00       528\n",
      "              Thriller       0.00      0.00      0.00       402\n",
      "Young adult literature       0.00      0.00      0.00       577\n",
      "\n",
      "              accuracy                           0.27     18578\n",
      "             macro avg       0.19      0.08      0.05     18578\n",
      "          weighted avg       0.40      0.27      0.15     18578\n",
      "\n"
     ]
    },
    {
     "name": "stderr",
     "output_type": "stream",
     "text": [
      "C:\\Users\\alexwhite2\\Anaconda3\\envs\\learn-env\\lib\\site-packages\\sklearn\\metrics\\_classification.py:1221: UndefinedMetricWarning: Precision and F-score are ill-defined and being set to 0.0 in labels with no predicted samples. Use `zero_division` parameter to control this behavior.\n",
      "  _warn_prf(average, modifier, msg_start, len(result))\n"
     ]
    }
   ],
   "source": [
    "print(metrics.classification_report(y_train, mnb_train, target_names=le.classes_))"
   ]
  },
  {
   "cell_type": "code",
   "execution_count": 18,
   "metadata": {},
   "outputs": [
    {
     "name": "stdout",
     "output_type": "stream",
     "text": [
      "                        precision    recall  f1-score   support\n",
      "\n",
      "       Adventure novel       0.00      0.00      0.00        94\n",
      "     Alternate history       0.00      0.00      0.00        78\n",
      " Children's literature       0.00      0.00      0.00       666\n",
      "         Crime Fiction       0.00      0.00      0.00       236\n",
      "     Detective fiction       0.00      0.00      0.00       103\n",
      "               Fantasy       0.20      0.00      0.01       690\n",
      "               Fiction       0.18      0.73      0.29      1403\n",
      "    Historical fiction       0.00      0.00      0.00       113\n",
      "      Historical novel       0.00      0.00      0.00       204\n",
      "                Horror       0.00      0.00      0.00       142\n",
      "               Mystery       0.00      0.00      0.00       436\n",
      "           Non-fiction       0.00      0.00      0.00        73\n",
      "                 Novel       0.00      0.00      0.00       751\n",
      "         Romance novel       0.00      0.00      0.00       135\n",
      "       Science Fiction       0.10      0.00      0.00       896\n",
      "   Speculative fiction       0.20      0.37      0.26      1239\n",
      "           Spy fiction       0.00      0.00      0.00        53\n",
      "              Suspense       0.00      0.00      0.00       237\n",
      "              Thriller       0.00      0.00      0.00       166\n",
      "Young adult literature       0.00      0.00      0.00       248\n",
      "\n",
      "              accuracy                           0.19      7963\n",
      "             macro avg       0.03      0.06      0.03      7963\n",
      "          weighted avg       0.09      0.19      0.09      7963\n",
      "\n"
     ]
    }
   ],
   "source": [
    "print(metrics.classification_report(y_test, mnb_test, target_names=le.classes_))"
   ]
  },
  {
   "cell_type": "code",
   "execution_count": 19,
   "metadata": {},
   "outputs": [],
   "source": [
    "path_to_save = \"../Data/pickles/trained_cnb.dat\"\n",
    "with open (path_to_save, \"w+b\") as f:\n",
    "    pickle.dump(clf, f)"
   ]
  }
 ],
 "metadata": {
  "kernelspec": {
   "display_name": "Python 3",
   "language": "python",
   "name": "python3"
  },
  "language_info": {
   "codemirror_mode": {
    "name": "ipython",
    "version": 3
   },
   "file_extension": ".py",
   "mimetype": "text/x-python",
   "name": "python",
   "nbconvert_exporter": "python",
   "pygments_lexer": "ipython3",
   "version": "3.8.5"
  }
 },
 "nbformat": 4,
 "nbformat_minor": 4
}
