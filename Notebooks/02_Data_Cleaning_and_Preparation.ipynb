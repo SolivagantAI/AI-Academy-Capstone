{
 "cells": [
  {
   "cell_type": "markdown",
   "metadata": {},
   "source": [
    "# Data Cleaning and Preparation\n",
    "\n",
    "After having imported a set of book summaries and genres, then limited the list to only the 20 most popular genres, we can begin to clean and prepare the data itself. This will be the start of our Natural Language Processing work before we build our machine learning engine."
   ]
  },
  {
   "cell_type": "code",
   "execution_count": 1,
   "metadata": {},
   "outputs": [],
   "source": [
    "import numpy as np\n",
    "import pandas as pd\n",
    "import matplotlib.pyplot as plt\n",
    "import seaborn as sns\n",
    "\n",
    "import re\n",
    "from string import punctuation\n",
    "import nltk\n",
    "from nltk.corpus import stopwords, wordnet\n",
    "from nltk.tokenize import word_tokenize, sent_tokenize\n",
    "from nltk.tag import pos_tag\n",
    "from nltk.stem import WordNetLemmatizer\n",
    "\n",
    "from IPython.display import clear_output\n",
    "from datetime import datetime"
   ]
  },
  {
   "cell_type": "code",
   "execution_count": 2,
   "metadata": {},
   "outputs": [
    {
     "data": {
      "text/html": [
       "<div>\n",
       "<style scoped>\n",
       "    .dataframe tbody tr th:only-of-type {\n",
       "        vertical-align: middle;\n",
       "    }\n",
       "\n",
       "    .dataframe tbody tr th {\n",
       "        vertical-align: top;\n",
       "    }\n",
       "\n",
       "    .dataframe thead th {\n",
       "        text-align: right;\n",
       "    }\n",
       "</style>\n",
       "<table border=\"1\" class=\"dataframe\">\n",
       "  <thead>\n",
       "    <tr style=\"text-align: right;\">\n",
       "      <th></th>\n",
       "      <th>plot_summary</th>\n",
       "      <th>book_genres</th>\n",
       "    </tr>\n",
       "  </thead>\n",
       "  <tbody>\n",
       "    <tr>\n",
       "      <th>0</th>\n",
       "      <td>Old Major, the old boar on the Manor Farm, ca...</td>\n",
       "      <td>Children's literature</td>\n",
       "    </tr>\n",
       "    <tr>\n",
       "      <th>1</th>\n",
       "      <td>Old Major, the old boar on the Manor Farm, ca...</td>\n",
       "      <td>Speculative fiction</td>\n",
       "    </tr>\n",
       "    <tr>\n",
       "      <th>2</th>\n",
       "      <td>Old Major, the old boar on the Manor Farm, ca...</td>\n",
       "      <td>Fiction</td>\n",
       "    </tr>\n",
       "    <tr>\n",
       "      <th>3</th>\n",
       "      <td>Alex, a teenager living in near-future Englan...</td>\n",
       "      <td>Science Fiction</td>\n",
       "    </tr>\n",
       "    <tr>\n",
       "      <th>4</th>\n",
       "      <td>Alex, a teenager living in near-future Englan...</td>\n",
       "      <td>Speculative fiction</td>\n",
       "    </tr>\n",
       "  </tbody>\n",
       "</table>\n",
       "</div>"
      ],
      "text/plain": [
       "                                        plot_summary            book_genres\n",
       "0   Old Major, the old boar on the Manor Farm, ca...  Children's literature\n",
       "1   Old Major, the old boar on the Manor Farm, ca...    Speculative fiction\n",
       "2   Old Major, the old boar on the Manor Farm, ca...                Fiction\n",
       "3   Alex, a teenager living in near-future Englan...        Science Fiction\n",
       "4   Alex, a teenager living in near-future Englan...    Speculative fiction"
      ]
     },
     "execution_count": 2,
     "metadata": {},
     "output_type": "execute_result"
    }
   ],
   "source": [
    "# the data\n",
    "path_to_data = \"../Data/top_20_genres_and_summaries.csv\"\n",
    "df = pd.read_csv(path_to_data, index_col=0)\n",
    "df.head()"
   ]
  },
  {
   "cell_type": "markdown",
   "metadata": {},
   "source": [
    "## Step 1: Cleaning\n",
    "\n",
    "For our cleaning, we need to reduce the impact of word varience as much as possible before we make our bags of words. To do this, we will make everything lower-case and eliminate punctuation, remove stopwords, then tag and lemmatize the words.\n",
    "\n",
    "Define function for cleaning text. This will take an entire summary and break it into sentences, then make each sentence lowercase, remove all punctuation, define the parts of speach, and lemmmatize the individual words. Finally, it will combine the lemmatized words into a new string representing the cleaned summary."
   ]
  },
  {
   "cell_type": "code",
   "execution_count": 3,
   "metadata": {},
   "outputs": [
    {
     "data": {
      "text/plain": [
       "\" Old Major, the old boar on the Manor Farm, calls the animals on the farm for a meeting, where he compares the humans to parasites and teaches the animals a revolutionary song, 'Beasts of England'. When Major dies, two young pigs, Snowball and Napole\""
      ]
     },
     "execution_count": 3,
     "metadata": {},
     "output_type": "execute_result"
    }
   ],
   "source": [
    "# before cleaning\n",
    "df.iloc[0].plot_summary[:250]"
   ]
  },
  {
   "cell_type": "code",
   "execution_count": 4,
   "metadata": {},
   "outputs": [],
   "source": [
    "en_stopwords = stopwords.words('english')\n",
    "wnl = WordNetLemmatizer()\n",
    "\n",
    "def get_wordnet_pos(treebank_tag):\n",
    "\n",
    "    if treebank_tag.startswith('J'):\n",
    "        return wordnet.ADJ\n",
    "    elif treebank_tag.startswith('V'):\n",
    "        return wordnet.VERB\n",
    "    elif treebank_tag.startswith('N'):\n",
    "        return wordnet.NOUN\n",
    "    elif treebank_tag.startswith('R'):\n",
    "        return wordnet.ADV\n",
    "    else:\n",
    "        return wordnet.NOUN # default pos\n",
    "\n",
    "def clean_text(text):\n",
    "    results = []\n",
    "    # split text into sentences\n",
    "    sentences = sent_tokenize(text)\n",
    "    # clean and lemmatize each sentence\n",
    "    for sentence in sentences:\n",
    "        words = sentence.lower() # shift to lowercase\n",
    "        words = re.sub(f\"[{re.escape(punctuation)}]\", \"\", words) # remove punctuation\n",
    "        words = word_tokenize(words) # split sentence into individual words\n",
    "        words = [word for word in words if not word in en_stopwords] # remove stopwords\n",
    "        parts = pos_tag(words)\n",
    "        for word, part in parts:\n",
    "            lemma = wnl.lemmatize(word, pos=get_wordnet_pos(part))\n",
    "            results.append(lemma)\n",
    "    return \" \".join(results)"
   ]
  },
  {
   "cell_type": "code",
   "execution_count": 5,
   "metadata": {},
   "outputs": [
    {
     "data": {
      "text/plain": [
       "'old major old boar manor farm call animal farm meeting compare human parasite teach animal revolutionary song beast england major dy two young pig snowball napoleon assume command turn dream philosophy animal revolt drive drunken irresponsible mr jon'"
      ]
     },
     "execution_count": 5,
     "metadata": {},
     "output_type": "execute_result"
    }
   ],
   "source": [
    "# after cleaning\n",
    "clean_text(df.iloc[0].plot_summary)[:250]"
   ]
  },
  {
   "cell_type": "markdown",
   "metadata": {},
   "source": [
    "Now let's build a new dataframe with our cleaned summaries. From previous experience on this operation, we will chunk it so that our poor computer doesn't have to remember everything at once."
   ]
  },
  {
   "cell_type": "code",
   "execution_count": 6,
   "metadata": {},
   "outputs": [
    {
     "name": "stdout",
     "output_type": "stream",
     "text": [
      "Last processed:                                                        0\n",
      "26540  makar devushkin varvara dobroselova second cou...\n",
      "\n",
      "Complete\n"
     ]
    }
   ],
   "source": [
    "clean_df = pd.DataFrame()\n",
    "increment = 100 # how many rows to process at once\n",
    "start = datetime.now()\n",
    "for i in range(0, len(df), increment):\n",
    "    print(\"Processing {}-{} of {}.\\nTotal Time Elapsed: {} seconds\"\\\n",
    "          .format(i, i+increment-1, len(df), (datetime.now()-start).total_seconds()))\n",
    "    next_set = df.iloc[i:i+increment]['plot_summary'].apply(clean_text)\n",
    "    clean_df = pd.concat((clean_df, next_set))\n",
    "    clear_output()\n",
    "    print(\"Last processed: {}\\n\".format(clean_df.iloc[-1:]))\n",
    "print(\"Complete\")"
   ]
  },
  {
   "cell_type": "code",
   "execution_count": 7,
   "metadata": {},
   "outputs": [
    {
     "data": {
      "text/html": [
       "<div>\n",
       "<style scoped>\n",
       "    .dataframe tbody tr th:only-of-type {\n",
       "        vertical-align: middle;\n",
       "    }\n",
       "\n",
       "    .dataframe tbody tr th {\n",
       "        vertical-align: top;\n",
       "    }\n",
       "\n",
       "    .dataframe thead th {\n",
       "        text-align: right;\n",
       "    }\n",
       "</style>\n",
       "<table border=\"1\" class=\"dataframe\">\n",
       "  <thead>\n",
       "    <tr style=\"text-align: right;\">\n",
       "      <th></th>\n",
       "      <th>0</th>\n",
       "    </tr>\n",
       "  </thead>\n",
       "  <tbody>\n",
       "    <tr>\n",
       "      <th>0</th>\n",
       "      <td>old major old boar manor farm call animal farm...</td>\n",
       "    </tr>\n",
       "    <tr>\n",
       "      <th>1</th>\n",
       "      <td>old major old boar manor farm call animal farm...</td>\n",
       "    </tr>\n",
       "    <tr>\n",
       "      <th>2</th>\n",
       "      <td>old major old boar manor farm call animal farm...</td>\n",
       "    </tr>\n",
       "    <tr>\n",
       "      <th>3</th>\n",
       "      <td>alex teenager live nearfuture england lead gan...</td>\n",
       "    </tr>\n",
       "    <tr>\n",
       "      <th>4</th>\n",
       "      <td>alex teenager live nearfuture england lead gan...</td>\n",
       "    </tr>\n",
       "    <tr>\n",
       "      <th>...</th>\n",
       "      <td>...</td>\n",
       "    </tr>\n",
       "    <tr>\n",
       "      <th>26536</th>\n",
       "      <td>series follow character nick stone exmilitary ...</td>\n",
       "    </tr>\n",
       "    <tr>\n",
       "      <th>26537</th>\n",
       "      <td>series follow character nick stone exmilitary ...</td>\n",
       "    </tr>\n",
       "    <tr>\n",
       "      <th>26538</th>\n",
       "      <td>reader first meet rapp covert operation iran d...</td>\n",
       "    </tr>\n",
       "    <tr>\n",
       "      <th>26539</th>\n",
       "      <td>reader first meet rapp covert operation iran d...</td>\n",
       "    </tr>\n",
       "    <tr>\n",
       "      <th>26540</th>\n",
       "      <td>makar devushkin varvara dobroselova second cou...</td>\n",
       "    </tr>\n",
       "  </tbody>\n",
       "</table>\n",
       "<p>26541 rows × 1 columns</p>\n",
       "</div>"
      ],
      "text/plain": [
       "                                                       0\n",
       "0      old major old boar manor farm call animal farm...\n",
       "1      old major old boar manor farm call animal farm...\n",
       "2      old major old boar manor farm call animal farm...\n",
       "3      alex teenager live nearfuture england lead gan...\n",
       "4      alex teenager live nearfuture england lead gan...\n",
       "...                                                  ...\n",
       "26536  series follow character nick stone exmilitary ...\n",
       "26537  series follow character nick stone exmilitary ...\n",
       "26538  reader first meet rapp covert operation iran d...\n",
       "26539  reader first meet rapp covert operation iran d...\n",
       "26540  makar devushkin varvara dobroselova second cou...\n",
       "\n",
       "[26541 rows x 1 columns]"
      ]
     },
     "execution_count": 7,
     "metadata": {},
     "output_type": "execute_result"
    }
   ],
   "source": [
    "clean_df"
   ]
  },
  {
   "cell_type": "markdown",
   "metadata": {},
   "source": [
    "Now we need to add the genres back and it'll be ready to go."
   ]
  },
  {
   "cell_type": "code",
   "execution_count": 8,
   "metadata": {},
   "outputs": [
    {
     "data": {
      "text/html": [
       "<div>\n",
       "<style scoped>\n",
       "    .dataframe tbody tr th:only-of-type {\n",
       "        vertical-align: middle;\n",
       "    }\n",
       "\n",
       "    .dataframe tbody tr th {\n",
       "        vertical-align: top;\n",
       "    }\n",
       "\n",
       "    .dataframe thead th {\n",
       "        text-align: right;\n",
       "    }\n",
       "</style>\n",
       "<table border=\"1\" class=\"dataframe\">\n",
       "  <thead>\n",
       "    <tr style=\"text-align: right;\">\n",
       "      <th></th>\n",
       "      <th>summary</th>\n",
       "      <th>genre</th>\n",
       "    </tr>\n",
       "  </thead>\n",
       "  <tbody>\n",
       "    <tr>\n",
       "      <th>0</th>\n",
       "      <td>old major old boar manor farm call animal farm...</td>\n",
       "      <td>Children's literature</td>\n",
       "    </tr>\n",
       "    <tr>\n",
       "      <th>1</th>\n",
       "      <td>old major old boar manor farm call animal farm...</td>\n",
       "      <td>Speculative fiction</td>\n",
       "    </tr>\n",
       "    <tr>\n",
       "      <th>2</th>\n",
       "      <td>old major old boar manor farm call animal farm...</td>\n",
       "      <td>Fiction</td>\n",
       "    </tr>\n",
       "    <tr>\n",
       "      <th>3</th>\n",
       "      <td>alex teenager live nearfuture england lead gan...</td>\n",
       "      <td>Science Fiction</td>\n",
       "    </tr>\n",
       "    <tr>\n",
       "      <th>4</th>\n",
       "      <td>alex teenager live nearfuture england lead gan...</td>\n",
       "      <td>Speculative fiction</td>\n",
       "    </tr>\n",
       "    <tr>\n",
       "      <th>...</th>\n",
       "      <td>...</td>\n",
       "      <td>...</td>\n",
       "    </tr>\n",
       "    <tr>\n",
       "      <th>26536</th>\n",
       "      <td>series follow character nick stone exmilitary ...</td>\n",
       "      <td>Fiction</td>\n",
       "    </tr>\n",
       "    <tr>\n",
       "      <th>26537</th>\n",
       "      <td>series follow character nick stone exmilitary ...</td>\n",
       "      <td>Suspense</td>\n",
       "    </tr>\n",
       "    <tr>\n",
       "      <th>26538</th>\n",
       "      <td>reader first meet rapp covert operation iran d...</td>\n",
       "      <td>Thriller</td>\n",
       "    </tr>\n",
       "    <tr>\n",
       "      <th>26539</th>\n",
       "      <td>reader first meet rapp covert operation iran d...</td>\n",
       "      <td>Fiction</td>\n",
       "    </tr>\n",
       "    <tr>\n",
       "      <th>26540</th>\n",
       "      <td>makar devushkin varvara dobroselova second cou...</td>\n",
       "      <td>Speculative fiction</td>\n",
       "    </tr>\n",
       "  </tbody>\n",
       "</table>\n",
       "<p>26541 rows × 2 columns</p>\n",
       "</div>"
      ],
      "text/plain": [
       "                                                 summary  \\\n",
       "0      old major old boar manor farm call animal farm...   \n",
       "1      old major old boar manor farm call animal farm...   \n",
       "2      old major old boar manor farm call animal farm...   \n",
       "3      alex teenager live nearfuture england lead gan...   \n",
       "4      alex teenager live nearfuture england lead gan...   \n",
       "...                                                  ...   \n",
       "26536  series follow character nick stone exmilitary ...   \n",
       "26537  series follow character nick stone exmilitary ...   \n",
       "26538  reader first meet rapp covert operation iran d...   \n",
       "26539  reader first meet rapp covert operation iran d...   \n",
       "26540  makar devushkin varvara dobroselova second cou...   \n",
       "\n",
       "                       genre  \n",
       "0      Children's literature  \n",
       "1        Speculative fiction  \n",
       "2                    Fiction  \n",
       "3            Science Fiction  \n",
       "4        Speculative fiction  \n",
       "...                      ...  \n",
       "26536                Fiction  \n",
       "26537               Suspense  \n",
       "26538               Thriller  \n",
       "26539                Fiction  \n",
       "26540    Speculative fiction  \n",
       "\n",
       "[26541 rows x 2 columns]"
      ]
     },
     "execution_count": 8,
     "metadata": {},
     "output_type": "execute_result"
    }
   ],
   "source": [
    "clean_df['genre'] = df['book_genres']\n",
    "clean_df.rename(columns={0: 'summary'}, inplace=True)\n",
    "clean_df"
   ]
  },
  {
   "cell_type": "markdown",
   "metadata": {},
   "source": [
    "And with that the data is clean and ready for bagging. There are probably internal errors in the lexemes or other portions, but the information should be sufficient to give us a valid machine learning model.\n",
    "\n",
    "We'll revisit the cleaning and prep again in the last section, during which we will build a combined pipeline of the process. For now, though, let's forward this data to the next step for bagging and TF-IDF."
   ]
  },
  {
   "cell_type": "code",
   "execution_count": 9,
   "metadata": {},
   "outputs": [],
   "source": [
    "path_to_save = \"../Data/cleaned_summaries_and_genres.csv\"\n",
    "clean_df.to_csv(path_to_save)"
   ]
  }
 ],
 "metadata": {
  "kernelspec": {
   "display_name": "Python 3",
   "language": "python",
   "name": "python3"
  },
  "language_info": {
   "codemirror_mode": {
    "name": "ipython",
    "version": 3
   },
   "file_extension": ".py",
   "mimetype": "text/x-python",
   "name": "python",
   "nbconvert_exporter": "python",
   "pygments_lexer": "ipython3",
   "version": "3.8.5"
  }
 },
 "nbformat": 4,
 "nbformat_minor": 4
}
