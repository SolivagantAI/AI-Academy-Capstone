{
 "cells": [
  {
   "cell_type": "markdown",
   "metadata": {},
   "source": [
    "# Complement Naive Bayes and Prediction\n",
    "With the TF-IDF data ready, we can move into the model making and prediction. In the final version, this will be a part of the pipeline and will run training and test sets separately."
   ]
  },
  {
   "cell_type": "code",
   "execution_count": 29,
   "metadata": {},
   "outputs": [],
   "source": [
    "random_seed = 42\n",
    "\n",
    "import numpy as np\n",
    "import pandas as pd\n",
    "import matplotlib.pyplot as plt\n",
    "import seaborn as sns\n",
    "\n",
    "from IPython.display import clear_output\n",
    "from datetime import datetime\n",
    "\n",
    "from sklearn.model_selection import train_test_split\n",
    "from sklearn.preprocessing import LabelEncoder\n",
    "from sklearn.feature_extraction.text import TfidfTransformer\n",
    "from sklearn.naive_bayes import ComplementNB\n",
    "from sklearn import metrics\n",
    "\n",
    "import pickle"
   ]
  },
  {
   "cell_type": "code",
   "execution_count": 3,
   "metadata": {},
   "outputs": [],
   "source": [
    "# get pickled TF-IDF data and vectorizer\n",
    "path_to_file = \"Data/pickles/TFIDF.dat\"\n",
    "with open (path_to_file, \"rb\") as f:\n",
    "    tfidf_data, tfidf_vectorizer = pickle.load(f)"
   ]
  },
  {
   "cell_type": "code",
   "execution_count": 7,
   "metadata": {},
   "outputs": [
    {
     "data": {
      "text/html": [
       "<div>\n",
       "<style scoped>\n",
       "    .dataframe tbody tr th:only-of-type {\n",
       "        vertical-align: middle;\n",
       "    }\n",
       "\n",
       "    .dataframe tbody tr th {\n",
       "        vertical-align: top;\n",
       "    }\n",
       "\n",
       "    .dataframe thead th {\n",
       "        text-align: right;\n",
       "    }\n",
       "</style>\n",
       "<table border=\"1\" class=\"dataframe\">\n",
       "  <thead>\n",
       "    <tr style=\"text-align: right;\">\n",
       "      <th></th>\n",
       "      <th>summary</th>\n",
       "      <th>genre</th>\n",
       "    </tr>\n",
       "  </thead>\n",
       "  <tbody>\n",
       "    <tr>\n",
       "      <th>0</th>\n",
       "      <td>old major old boar manor farm call animal farm...</td>\n",
       "      <td>Children's literature</td>\n",
       "    </tr>\n",
       "    <tr>\n",
       "      <th>1</th>\n",
       "      <td>old major old boar manor farm call animal farm...</td>\n",
       "      <td>Speculative fiction</td>\n",
       "    </tr>\n",
       "    <tr>\n",
       "      <th>2</th>\n",
       "      <td>old major old boar manor farm call animal farm...</td>\n",
       "      <td>Fiction</td>\n",
       "    </tr>\n",
       "    <tr>\n",
       "      <th>3</th>\n",
       "      <td>alex teenager live nearfuture england lead gan...</td>\n",
       "      <td>Science Fiction</td>\n",
       "    </tr>\n",
       "    <tr>\n",
       "      <th>4</th>\n",
       "      <td>alex teenager live nearfuture england lead gan...</td>\n",
       "      <td>Speculative fiction</td>\n",
       "    </tr>\n",
       "    <tr>\n",
       "      <th>...</th>\n",
       "      <td>...</td>\n",
       "      <td>...</td>\n",
       "    </tr>\n",
       "    <tr>\n",
       "      <th>26536</th>\n",
       "      <td>series follow character nick stone exmilitary ...</td>\n",
       "      <td>Fiction</td>\n",
       "    </tr>\n",
       "    <tr>\n",
       "      <th>26537</th>\n",
       "      <td>series follow character nick stone exmilitary ...</td>\n",
       "      <td>Suspense</td>\n",
       "    </tr>\n",
       "    <tr>\n",
       "      <th>26538</th>\n",
       "      <td>reader first meet rapp covert operation iran d...</td>\n",
       "      <td>Thriller</td>\n",
       "    </tr>\n",
       "    <tr>\n",
       "      <th>26539</th>\n",
       "      <td>reader first meet rapp covert operation iran d...</td>\n",
       "      <td>Fiction</td>\n",
       "    </tr>\n",
       "    <tr>\n",
       "      <th>26540</th>\n",
       "      <td>makar devushkin varvara dobroselova second cou...</td>\n",
       "      <td>Speculative fiction</td>\n",
       "    </tr>\n",
       "  </tbody>\n",
       "</table>\n",
       "<p>26541 rows × 2 columns</p>\n",
       "</div>"
      ],
      "text/plain": [
       "                                                 summary  \\\n",
       "0      old major old boar manor farm call animal farm...   \n",
       "1      old major old boar manor farm call animal farm...   \n",
       "2      old major old boar manor farm call animal farm...   \n",
       "3      alex teenager live nearfuture england lead gan...   \n",
       "4      alex teenager live nearfuture england lead gan...   \n",
       "...                                                  ...   \n",
       "26536  series follow character nick stone exmilitary ...   \n",
       "26537  series follow character nick stone exmilitary ...   \n",
       "26538  reader first meet rapp covert operation iran d...   \n",
       "26539  reader first meet rapp covert operation iran d...   \n",
       "26540  makar devushkin varvara dobroselova second cou...   \n",
       "\n",
       "                       genre  \n",
       "0      Children's literature  \n",
       "1        Speculative fiction  \n",
       "2                    Fiction  \n",
       "3            Science Fiction  \n",
       "4        Speculative fiction  \n",
       "...                      ...  \n",
       "26536                Fiction  \n",
       "26537               Suspense  \n",
       "26538               Thriller  \n",
       "26539                Fiction  \n",
       "26540    Speculative fiction  \n",
       "\n",
       "[26541 rows x 2 columns]"
      ]
     },
     "execution_count": 7,
     "metadata": {},
     "output_type": "execute_result"
    }
   ],
   "source": [
    "# get dataframe with summaries and genres\n",
    "path_to_data = \"Data/cleaned_summaries_and_genres.csv\"\n",
    "df = pd.read_csv(path_to_data, index_col=0)\n",
    "df"
   ]
  },
  {
   "cell_type": "code",
   "execution_count": 14,
   "metadata": {},
   "outputs": [
    {
     "data": {
      "text/plain": [
       "array([ 2, 15,  6, ..., 18,  6, 15])"
      ]
     },
     "execution_count": 14,
     "metadata": {},
     "output_type": "execute_result"
    }
   ],
   "source": [
    "# encode genres into labels and make X and y\n",
    "le = LabelEncoder()\n",
    "\n",
    "X = tfidf_data\n",
    "\n",
    "y_names = df['genre']\n",
    "y = le.fit_transform(y_names)\n",
    "y"
   ]
  },
  {
   "cell_type": "code",
   "execution_count": 21,
   "metadata": {},
   "outputs": [
    {
     "name": "stdout",
     "output_type": "stream",
     "text": [
      "Array Shapes\n",
      "X_train: (18578, 116360)  y_train: (18578,)\n",
      "X_test:  (7963, 116360)   y_test: (7963,)\n"
     ]
    }
   ],
   "source": [
    "X_train, X_test, y_train, y_test = train_test_split(X, y, test_size=0.3, random_state=random_seed)\n",
    "print(\"Array Shapes\\nX_train: {}  y_train: {}\\nX_test:  {}   y_test: {}\"\\\n",
    "      .format(X_train.shape, y_train.shape, X_test.shape, y_test.shape))"
   ]
  },
  {
   "cell_type": "markdown",
   "metadata": {},
   "source": [
    "## Complement Naive Bayes\n",
    "The complement naive bayes analyzer has historically good performance with textual analysis."
   ]
  },
  {
   "cell_type": "code",
   "execution_count": 23,
   "metadata": {},
   "outputs": [
    {
     "data": {
      "text/plain": [
       "ComplementNB()"
      ]
     },
     "execution_count": 23,
     "metadata": {},
     "output_type": "execute_result"
    }
   ],
   "source": [
    "clf = ComplementNB()\n",
    "clf.fit(X_train, y_train)"
   ]
  },
  {
   "cell_type": "code",
   "execution_count": 25,
   "metadata": {},
   "outputs": [],
   "source": [
    "preds = clf.predict(X_test)"
   ]
  },
  {
   "cell_type": "code",
   "execution_count": 31,
   "metadata": {},
   "outputs": [
    {
     "name": "stdout",
     "output_type": "stream",
     "text": [
      "                        precision    recall  f1-score   support\n",
      "\n",
      "       Adventure novel       0.07      0.02      0.03        94\n",
      "     Alternate history       0.06      0.01      0.02        78\n",
      " Children's literature       0.14      0.07      0.10       666\n",
      "         Crime Fiction       0.12      0.05      0.07       236\n",
      "     Detective fiction       0.07      0.03      0.04       103\n",
      "               Fantasy       0.17      0.15      0.16       690\n",
      "               Fiction       0.14      0.32      0.19      1403\n",
      "    Historical fiction       0.00      0.00      0.00       113\n",
      "      Historical novel       0.18      0.08      0.11       204\n",
      "                Horror       0.02      0.01      0.01       142\n",
      "               Mystery       0.09      0.06      0.07       436\n",
      "           Non-fiction       0.22      0.03      0.05        73\n",
      "                 Novel       0.15      0.07      0.09       751\n",
      "         Romance novel       0.04      0.01      0.01       135\n",
      "       Science Fiction       0.24      0.22      0.23       896\n",
      "   Speculative fiction       0.08      0.11      0.09      1239\n",
      "           Spy fiction       0.34      0.19      0.24        53\n",
      "              Suspense       0.00      0.00      0.00       237\n",
      "              Thriller       0.05      0.01      0.02       166\n",
      "Young adult literature       0.20      0.06      0.09       248\n",
      "\n",
      "              accuracy                           0.14      7963\n",
      "             macro avg       0.12      0.07      0.08      7963\n",
      "          weighted avg       0.13      0.14      0.12      7963\n",
      "\n"
     ]
    }
   ],
   "source": [
    "print(metrics.classification_report(y_test, preds, target_names=le.classes_))"
   ]
  },
  {
   "cell_type": "code",
   "execution_count": 34,
   "metadata": {},
   "outputs": [
    {
     "name": "stdout",
     "output_type": "stream",
     "text": [
      "[[  2   1  11   0   0   3  34   0   4   0   1   0   5   0   8  23   0   0\n",
      "    0   2]\n",
      " [  0   1   0   0   0   3  16   0   3   0   1   0   1   0  22  31   0   0\n",
      "    0   0]\n",
      " [  3   0  49   1   4  80 328   0   6   6  13   1   9   1  27 121   2   0\n",
      "    1  14]\n",
      " [  0   0   0  12   1   0 172   0   2   0  30   0   5   1   1   5   0   3\n",
      "    4   0]\n",
      " [  0   0   4   3   3   0  41   0   0   0  46   0   2   0   1   1   0   1\n",
      "    0   1]\n",
      " [  1   1  49   0   0 102 132   0   0   3   6   0   2   1  43 337   0   1\n",
      "    4   8]\n",
      " [  6   2 113  23   2  86 453   9  23   8  69   2 153  10 113 292   6  18\n",
      "   10   5]\n",
      " [  0   0   3   1   0   1  82   0  11   0   0   0   7   1   0   5   0   0\n",
      "    0   2]\n",
      " [  6   0   9   3   0   4 121   5  16   1   6   2  10   1   0  15   1   0\n",
      "    0   4]\n",
      " [  0   0   1   0   0  11  40   1   0   1   2   0   3   0   5  74   0   1\n",
      "    0   3]\n",
      " [  0   0  12  37  25   6 256   1   2   2  24   0   9   4   7  33   0  16\n",
      "    1   1]\n",
      " [  0   0   1   0   0   0  58   0   0   0   0   2   4   0   7   1   0   0\n",
      "    0   0]\n",
      " [  1   2  14   6   3   3 482   2   5   2  11   2  52   1  44 104   3   1\n",
      "   12   1]\n",
      " [  0   0   4   0   0  14  90   1   3   0   0   0   7   1   2  10   0   0\n",
      "    0   3]\n",
      " [  2   4   9   2   1  42 151   0   0   1   2   0  12   0 197 466   0   0\n",
      "    2   5]\n",
      " [  2   6  40   0   0 243 369   1   8  13  13   0  43   2 344 138   2   2\n",
      "    3  10]\n",
      " [  0   0   4   1   0   0  26   0   1   0   1   0   2   0   0   4  10   1\n",
      "    2   1]\n",
      " [  1   0   1   7   0   0 178   0   0   2  22   0   4   1   1  17   1   0\n",
      "    2   0]\n",
      " [  0   1   5   4   0   2  93   1   1   0   7   0  14   2   6  24   4   0\n",
      "    2   0]\n",
      " [  3   0  18   0   1  16 144   0   2   4   2   0   1   0   8  33   0   0\n",
      "    1  15]]\n"
     ]
    }
   ],
   "source": [
    "print(metrics.confusion_matrix(y_test, preds))\n"
   ]
  }
 ],
 "metadata": {
  "kernelspec": {
   "display_name": "Python 3",
   "language": "python",
   "name": "python3"
  },
  "language_info": {
   "codemirror_mode": {
    "name": "ipython",
    "version": 3
   },
   "file_extension": ".py",
   "mimetype": "text/x-python",
   "name": "python",
   "nbconvert_exporter": "python",
   "pygments_lexer": "ipython3",
   "version": "3.8.5"
  }
 },
 "nbformat": 4,
 "nbformat_minor": 4
}
